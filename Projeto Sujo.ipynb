{
 "cells": [
  {
   "cell_type": "code",
   "execution_count": 197,
   "metadata": {},
   "outputs": [],
   "source": [
    "%matplotlib inline\n",
    "import pandas as pd\n",
    "import matplotlib.pyplot as plt\n",
    "import numpy as np"
   ]
  },
  {
   "cell_type": "markdown",
   "metadata": {},
   "source": [
    "# Hipótese inicial: \n",
    "\n",
    "- Ao adentrar o Mercosul como um membro associado, um país apresenta necessariamente um crescimento significativo na questão econômica nos 5 primeiros anos, frente a outros países não membros? \n",
    "\n",
    "Mecanismo:\n",
    "\n",
    "- Um membro associado ao Mercosul, apesar de não participar da TEC (Tarifa Externa Comum), possui uma boa relação com países como Brasil, Argentina e Uruguai, podendo assim, abrir caminho para um aumento das relações comerciais entre os países e assim, havendo um crescimento do PIB.\n",
    "\n"
   ]
  },
  {
   "cell_type": "code",
   "execution_count": 206,
   "metadata": {},
   "outputs": [],
   "source": [
    "#Dados de todos os países em relação ao crescimento do PIB anual\n",
    "dados = pd.read_excel('gdp_per_capita_yearly_growth.xlsx')"
   ]
  },
  {
   "cell_type": "code",
   "execution_count": 207,
   "metadata": {},
   "outputs": [],
   "source": [
    "#Excluindo os dados denecessários, era necessário ver os valores apenas a partir de 1994\n",
    "dados_novos = dados.set_index('country')\n",
    "dados_limpos = dados_novos.iloc[:,195:]\n"
   ]
  },
  {
   "cell_type": "code",
   "execution_count": 200,
   "metadata": {},
   "outputs": [
    {
     "data": {
      "text/html": [
       "<div>\n",
       "<style scoped>\n",
       "    .dataframe tbody tr th:only-of-type {\n",
       "        vertical-align: middle;\n",
       "    }\n",
       "\n",
       "    .dataframe tbody tr th {\n",
       "        vertical-align: top;\n",
       "    }\n",
       "\n",
       "    .dataframe thead th {\n",
       "        text-align: right;\n",
       "    }\n",
       "</style>\n",
       "<table border=\"1\" class=\"dataframe\">\n",
       "  <thead>\n",
       "    <tr style=\"text-align: right;\">\n",
       "      <th></th>\n",
       "      <th>1996</th>\n",
       "      <th>1997</th>\n",
       "      <th>1998</th>\n",
       "      <th>1999</th>\n",
       "      <th>2000</th>\n",
       "      <th>2001</th>\n",
       "      <th>2002</th>\n",
       "      <th>2003</th>\n",
       "      <th>2004</th>\n",
       "      <th>2005</th>\n",
       "      <th>...</th>\n",
       "      <th>2010</th>\n",
       "      <th>2011</th>\n",
       "      <th>2012</th>\n",
       "      <th>2013</th>\n",
       "      <th>2014</th>\n",
       "      <th>2015</th>\n",
       "      <th>2016</th>\n",
       "      <th>2017</th>\n",
       "      <th>2018</th>\n",
       "      <th>2019</th>\n",
       "    </tr>\n",
       "    <tr>\n",
       "      <th>country</th>\n",
       "      <th></th>\n",
       "      <th></th>\n",
       "      <th></th>\n",
       "      <th></th>\n",
       "      <th></th>\n",
       "      <th></th>\n",
       "      <th></th>\n",
       "      <th></th>\n",
       "      <th></th>\n",
       "      <th></th>\n",
       "      <th></th>\n",
       "      <th></th>\n",
       "      <th></th>\n",
       "      <th></th>\n",
       "      <th></th>\n",
       "      <th></th>\n",
       "      <th></th>\n",
       "      <th></th>\n",
       "      <th></th>\n",
       "      <th></th>\n",
       "      <th></th>\n",
       "    </tr>\n",
       "  </thead>\n",
       "  <tbody>\n",
       "    <tr>\n",
       "      <th>Brazil</th>\n",
       "      <td>1.260</td>\n",
       "      <td>1.89</td>\n",
       "      <td>-1.22</td>\n",
       "      <td>-0.529</td>\n",
       "      <td>3.03</td>\n",
       "      <td>-0.416</td>\n",
       "      <td>1.350</td>\n",
       "      <td>-0.256</td>\n",
       "      <td>4.33</td>\n",
       "      <td>1.59</td>\n",
       "      <td>...</td>\n",
       "      <td>6.60</td>\n",
       "      <td>1.840</td>\n",
       "      <td>0.220</td>\n",
       "      <td>1.370</td>\n",
       "      <td>0.952</td>\n",
       "      <td>1.810</td>\n",
       "      <td>2.190</td>\n",
       "      <td>2.360</td>\n",
       "      <td>2.590</td>\n",
       "      <td>2.790</td>\n",
       "    </tr>\n",
       "    <tr>\n",
       "      <th>Chile</th>\n",
       "      <td>5.920</td>\n",
       "      <td>5.18</td>\n",
       "      <td>1.90</td>\n",
       "      <td>-1.980</td>\n",
       "      <td>3.26</td>\n",
       "      <td>2.200</td>\n",
       "      <td>1.060</td>\n",
       "      <td>2.820</td>\n",
       "      <td>5.12</td>\n",
       "      <td>5.26</td>\n",
       "      <td>...</td>\n",
       "      <td>4.75</td>\n",
       "      <td>4.960</td>\n",
       "      <td>4.510</td>\n",
       "      <td>3.310</td>\n",
       "      <td>2.730</td>\n",
       "      <td>3.150</td>\n",
       "      <td>3.440</td>\n",
       "      <td>3.710</td>\n",
       "      <td>3.720</td>\n",
       "      <td>3.720</td>\n",
       "    </tr>\n",
       "    <tr>\n",
       "      <th>Belgium</th>\n",
       "      <td>0.923</td>\n",
       "      <td>3.13</td>\n",
       "      <td>1.70</td>\n",
       "      <td>3.230</td>\n",
       "      <td>3.47</td>\n",
       "      <td>0.507</td>\n",
       "      <td>1.310</td>\n",
       "      <td>0.822</td>\n",
       "      <td>2.81</td>\n",
       "      <td>1.51</td>\n",
       "      <td>...</td>\n",
       "      <td>1.60</td>\n",
       "      <td>0.297</td>\n",
       "      <td>-0.984</td>\n",
       "      <td>-0.351</td>\n",
       "      <td>0.955</td>\n",
       "      <td>0.781</td>\n",
       "      <td>0.654</td>\n",
       "      <td>0.723</td>\n",
       "      <td>0.764</td>\n",
       "      <td>0.857</td>\n",
       "    </tr>\n",
       "    <tr>\n",
       "      <th>Netherlands</th>\n",
       "      <td>3.360</td>\n",
       "      <td>4.05</td>\n",
       "      <td>3.64</td>\n",
       "      <td>4.350</td>\n",
       "      <td>3.46</td>\n",
       "      <td>1.460</td>\n",
       "      <td>-0.226</td>\n",
       "      <td>0.143</td>\n",
       "      <td>2.17</td>\n",
       "      <td>1.59</td>\n",
       "      <td>...</td>\n",
       "      <td>1.11</td>\n",
       "      <td>0.520</td>\n",
       "      <td>-1.610</td>\n",
       "      <td>-1.050</td>\n",
       "      <td>0.562</td>\n",
       "      <td>1.390</td>\n",
       "      <td>1.530</td>\n",
       "      <td>1.620</td>\n",
       "      <td>1.730</td>\n",
       "      <td>1.840</td>\n",
       "    </tr>\n",
       "  </tbody>\n",
       "</table>\n",
       "<p>4 rows × 24 columns</p>\n",
       "</div>"
      ],
      "text/plain": [
       "              1996  1997  1998   1999  2000   2001   2002   2003  2004  2005  \\\n",
       "country                                                                        \n",
       "Brazil       1.260  1.89 -1.22 -0.529  3.03 -0.416  1.350 -0.256  4.33  1.59   \n",
       "Chile        5.920  5.18  1.90 -1.980  3.26  2.200  1.060  2.820  5.12  5.26   \n",
       "Belgium      0.923  3.13  1.70  3.230  3.47  0.507  1.310  0.822  2.81  1.51   \n",
       "Netherlands  3.360  4.05  3.64  4.350  3.46  1.460 -0.226  0.143  2.17  1.59   \n",
       "\n",
       "             ...    2010   2011   2012   2013   2014   2015   2016   2017  \\\n",
       "country      ...                                                            \n",
       "Brazil       ...    6.60  1.840  0.220  1.370  0.952  1.810  2.190  2.360   \n",
       "Chile        ...    4.75  4.960  4.510  3.310  2.730  3.150  3.440  3.710   \n",
       "Belgium      ...    1.60  0.297 -0.984 -0.351  0.955  0.781  0.654  0.723   \n",
       "Netherlands  ...    1.11  0.520 -1.610 -1.050  0.562  1.390  1.530  1.620   \n",
       "\n",
       "              2018   2019  \n",
       "country                    \n",
       "Brazil       2.590  2.790  \n",
       "Chile        3.720  3.720  \n",
       "Belgium      0.764  0.857  \n",
       "Netherlands  1.730  1.840  \n",
       "\n",
       "[4 rows x 24 columns]"
      ]
     },
     "execution_count": 200,
     "metadata": {},
     "output_type": "execute_result"
    }
   ],
   "source": [
    "#Próximo passo era selecionar apenas os dados dos países que seriam estudados (Chile, Perú e Colômbia)\n",
    "dados_escolhidos = dados_limpos.loc[['Brazil','Chile','Belgium','Netherlands']]\n",
    "dados_escolhidos"
   ]
  },
  {
   "cell_type": "code",
   "execution_count": 201,
   "metadata": {},
   "outputs": [
    {
     "data": {
      "text/html": [
       "<div>\n",
       "<style scoped>\n",
       "    .dataframe tbody tr th:only-of-type {\n",
       "        vertical-align: middle;\n",
       "    }\n",
       "\n",
       "    .dataframe tbody tr th {\n",
       "        vertical-align: top;\n",
       "    }\n",
       "\n",
       "    .dataframe thead th {\n",
       "        text-align: right;\n",
       "    }\n",
       "</style>\n",
       "<table border=\"1\" class=\"dataframe\">\n",
       "  <thead>\n",
       "    <tr style=\"text-align: right;\">\n",
       "      <th></th>\n",
       "      <th>Blocos</th>\n",
       "    </tr>\n",
       "  </thead>\n",
       "  <tbody>\n",
       "    <tr>\n",
       "      <th>Brazil</th>\n",
       "      <td>Mercosul</td>\n",
       "    </tr>\n",
       "    <tr>\n",
       "      <th>Chile</th>\n",
       "      <td>Mercosul</td>\n",
       "    </tr>\n",
       "    <tr>\n",
       "      <th>Belgium</th>\n",
       "      <td>UE</td>\n",
       "    </tr>\n",
       "    <tr>\n",
       "      <th>Netherlands</th>\n",
       "      <td>UE</td>\n",
       "    </tr>\n",
       "  </tbody>\n",
       "</table>\n",
       "</div>"
      ],
      "text/plain": [
       "               Blocos\n",
       "Brazil       Mercosul\n",
       "Chile        Mercosul\n",
       "Belgium            UE\n",
       "Netherlands        UE"
      ]
     },
     "execution_count": 201,
     "metadata": {},
     "output_type": "execute_result"
    }
   ],
   "source": [
    "data_bloco = {'Brazil': ['Mercosul'],'Chile': ['Mercosul'],'Belgium': ['UE'],'Netherlands': ['UE']}\n",
    "dados_blocos = pd.DataFrame.from_dict(data_bloco, orient='index',columns = ['Blocos'])\n",
    "dados_blocos"
   ]
  },
  {
   "cell_type": "code",
   "execution_count": 202,
   "metadata": {},
   "outputs": [
    {
     "data": {
      "text/html": [
       "<div>\n",
       "<style scoped>\n",
       "    .dataframe tbody tr th:only-of-type {\n",
       "        vertical-align: middle;\n",
       "    }\n",
       "\n",
       "    .dataframe tbody tr th {\n",
       "        vertical-align: top;\n",
       "    }\n",
       "\n",
       "    .dataframe thead th {\n",
       "        text-align: right;\n",
       "    }\n",
       "</style>\n",
       "<table border=\"1\" class=\"dataframe\">\n",
       "  <thead>\n",
       "    <tr style=\"text-align: right;\">\n",
       "      <th></th>\n",
       "      <th>1996</th>\n",
       "      <th>1997</th>\n",
       "      <th>1998</th>\n",
       "      <th>1999</th>\n",
       "      <th>2000</th>\n",
       "      <th>2001</th>\n",
       "      <th>2002</th>\n",
       "      <th>2003</th>\n",
       "      <th>2004</th>\n",
       "      <th>2005</th>\n",
       "      <th>...</th>\n",
       "      <th>2011</th>\n",
       "      <th>2012</th>\n",
       "      <th>2013</th>\n",
       "      <th>2014</th>\n",
       "      <th>2015</th>\n",
       "      <th>2016</th>\n",
       "      <th>2017</th>\n",
       "      <th>2018</th>\n",
       "      <th>2019</th>\n",
       "      <th>Blocos</th>\n",
       "    </tr>\n",
       "    <tr>\n",
       "      <th>country</th>\n",
       "      <th></th>\n",
       "      <th></th>\n",
       "      <th></th>\n",
       "      <th></th>\n",
       "      <th></th>\n",
       "      <th></th>\n",
       "      <th></th>\n",
       "      <th></th>\n",
       "      <th></th>\n",
       "      <th></th>\n",
       "      <th></th>\n",
       "      <th></th>\n",
       "      <th></th>\n",
       "      <th></th>\n",
       "      <th></th>\n",
       "      <th></th>\n",
       "      <th></th>\n",
       "      <th></th>\n",
       "      <th></th>\n",
       "      <th></th>\n",
       "      <th></th>\n",
       "    </tr>\n",
       "  </thead>\n",
       "  <tbody>\n",
       "    <tr>\n",
       "      <th>Brazil</th>\n",
       "      <td>1.260</td>\n",
       "      <td>1.89</td>\n",
       "      <td>-1.22</td>\n",
       "      <td>-0.529</td>\n",
       "      <td>3.03</td>\n",
       "      <td>-0.416</td>\n",
       "      <td>1.350</td>\n",
       "      <td>-0.256</td>\n",
       "      <td>4.33</td>\n",
       "      <td>1.59</td>\n",
       "      <td>...</td>\n",
       "      <td>1.840</td>\n",
       "      <td>0.220</td>\n",
       "      <td>1.370</td>\n",
       "      <td>0.952</td>\n",
       "      <td>1.810</td>\n",
       "      <td>2.190</td>\n",
       "      <td>2.360</td>\n",
       "      <td>2.590</td>\n",
       "      <td>2.790</td>\n",
       "      <td>Mercosul</td>\n",
       "    </tr>\n",
       "    <tr>\n",
       "      <th>Chile</th>\n",
       "      <td>5.920</td>\n",
       "      <td>5.18</td>\n",
       "      <td>1.90</td>\n",
       "      <td>-1.980</td>\n",
       "      <td>3.26</td>\n",
       "      <td>2.200</td>\n",
       "      <td>1.060</td>\n",
       "      <td>2.820</td>\n",
       "      <td>5.12</td>\n",
       "      <td>5.26</td>\n",
       "      <td>...</td>\n",
       "      <td>4.960</td>\n",
       "      <td>4.510</td>\n",
       "      <td>3.310</td>\n",
       "      <td>2.730</td>\n",
       "      <td>3.150</td>\n",
       "      <td>3.440</td>\n",
       "      <td>3.710</td>\n",
       "      <td>3.720</td>\n",
       "      <td>3.720</td>\n",
       "      <td>Mercosul</td>\n",
       "    </tr>\n",
       "    <tr>\n",
       "      <th>Belgium</th>\n",
       "      <td>0.923</td>\n",
       "      <td>3.13</td>\n",
       "      <td>1.70</td>\n",
       "      <td>3.230</td>\n",
       "      <td>3.47</td>\n",
       "      <td>0.507</td>\n",
       "      <td>1.310</td>\n",
       "      <td>0.822</td>\n",
       "      <td>2.81</td>\n",
       "      <td>1.51</td>\n",
       "      <td>...</td>\n",
       "      <td>0.297</td>\n",
       "      <td>-0.984</td>\n",
       "      <td>-0.351</td>\n",
       "      <td>0.955</td>\n",
       "      <td>0.781</td>\n",
       "      <td>0.654</td>\n",
       "      <td>0.723</td>\n",
       "      <td>0.764</td>\n",
       "      <td>0.857</td>\n",
       "      <td>UE</td>\n",
       "    </tr>\n",
       "    <tr>\n",
       "      <th>Netherlands</th>\n",
       "      <td>3.360</td>\n",
       "      <td>4.05</td>\n",
       "      <td>3.64</td>\n",
       "      <td>4.350</td>\n",
       "      <td>3.46</td>\n",
       "      <td>1.460</td>\n",
       "      <td>-0.226</td>\n",
       "      <td>0.143</td>\n",
       "      <td>2.17</td>\n",
       "      <td>1.59</td>\n",
       "      <td>...</td>\n",
       "      <td>0.520</td>\n",
       "      <td>-1.610</td>\n",
       "      <td>-1.050</td>\n",
       "      <td>0.562</td>\n",
       "      <td>1.390</td>\n",
       "      <td>1.530</td>\n",
       "      <td>1.620</td>\n",
       "      <td>1.730</td>\n",
       "      <td>1.840</td>\n",
       "      <td>UE</td>\n",
       "    </tr>\n",
       "  </tbody>\n",
       "</table>\n",
       "<p>4 rows × 25 columns</p>\n",
       "</div>"
      ],
      "text/plain": [
       "              1996  1997  1998   1999  2000   2001   2002   2003  2004  2005  \\\n",
       "country                                                                        \n",
       "Brazil       1.260  1.89 -1.22 -0.529  3.03 -0.416  1.350 -0.256  4.33  1.59   \n",
       "Chile        5.920  5.18  1.90 -1.980  3.26  2.200  1.060  2.820  5.12  5.26   \n",
       "Belgium      0.923  3.13  1.70  3.230  3.47  0.507  1.310  0.822  2.81  1.51   \n",
       "Netherlands  3.360  4.05  3.64  4.350  3.46  1.460 -0.226  0.143  2.17  1.59   \n",
       "\n",
       "               ...      2011   2012   2013   2014   2015   2016   2017   2018  \\\n",
       "country        ...                                                              \n",
       "Brazil         ...     1.840  0.220  1.370  0.952  1.810  2.190  2.360  2.590   \n",
       "Chile          ...     4.960  4.510  3.310  2.730  3.150  3.440  3.710  3.720   \n",
       "Belgium        ...     0.297 -0.984 -0.351  0.955  0.781  0.654  0.723  0.764   \n",
       "Netherlands    ...     0.520 -1.610 -1.050  0.562  1.390  1.530  1.620  1.730   \n",
       "\n",
       "              2019    Blocos  \n",
       "country                       \n",
       "Brazil       2.790  Mercosul  \n",
       "Chile        3.720  Mercosul  \n",
       "Belgium      0.857        UE  \n",
       "Netherlands  1.840        UE  \n",
       "\n",
       "[4 rows x 25 columns]"
      ]
     },
     "execution_count": 202,
     "metadata": {},
     "output_type": "execute_result"
    }
   ],
   "source": [
    "dados_escolhidos.join(dados_blocos,how = 'inner')"
   ]
  },
  {
   "cell_type": "code",
   "execution_count": 203,
   "metadata": {},
   "outputs": [
    {
     "data": {
      "image/png": "[encoded data removed]",
      "text/plain": [
       "<Figure size 432x288 with 1 Axes>"
      ]
     },
     "metadata": {
      "needs_background": "light"
     },
     "output_type": "display_data"
    }
   ],
   "source": [
    "plt.plot(dados_escolhidos.loc['Chile'], label = 'Chile')\n",
    "plt.plot(dados_escolhidos.loc['Brazil'], label = 'Brazil')\n",
    "plt.plot(dados_escolhidos.loc['Belgium'], label = 'Belgium')\n",
    "plt.plot(dados_escolhidos.loc['Netherlands'], label = 'Netherlands')\n",
    "plt.title('Crescimento percentual do PIB por ano')\n",
    "plt.legend()\n",
    "plt.axis([1996, 2014, -5,7.5])\n",
    "plt.grid()"
   ]
  },
  {
   "cell_type": "code",
   "execution_count": 204,
   "metadata": {},
   "outputs": [
    {
     "name": "stderr",
     "output_type": "stream",
     "text": [
      "/Users/varella/anaconda3/lib/python3.7/site-packages/ipykernel_launcher.py:15: SettingWithCopyWarning: \n",
      "A value is trying to be set on a copy of a slice from a DataFrame.\n",
      "Try using .loc[row_indexer,col_indexer] = value instead\n",
      "\n",
      "See the caveats in the documentation: http://pandas.pydata.org/pandas-docs/stable/indexing.html#indexing-view-versus-copy\n",
      "  from ipykernel import kernelapp as app\n",
      "/Users/varella/anaconda3/lib/python3.7/site-packages/ipykernel_launcher.py:16: SettingWithCopyWarning: \n",
      "A value is trying to be set on a copy of a slice from a DataFrame.\n",
      "Try using .loc[row_indexer,col_indexer] = value instead\n",
      "\n",
      "See the caveats in the documentation: http://pandas.pydata.org/pandas-docs/stable/indexing.html#indexing-view-versus-copy\n",
      "  app.launch_new_instance()\n"
     ]
    }
   ],
   "source": [
    "paises_na_UE=[]\n",
    "paises_no_mercosul=[]\n",
    "paises_UE=[\"France\", \"Germany\", \"Belgium\", \"Italy\", \"Luxembourg\", \"Netherlands\", \"Denmark\", \"Ireland\", \"United Kingdom\", \"Greece\", \"Portugal\", \"Spain\", \"Austria\", \"Finland\", \"Sweden\", \"Hungary\", \"Cyprus\", \"Czech Republic\", \"Estonia\", \"Latvia\", \"Lithuania\", \"Malta\", \"Poland\", \"Slovak Republic\", \"Slovenia\", \"Bulgaria\", \"Romania\", \"Croatia\"]\n",
    "paises_mercosul=['Argentina', 'Brazil', 'Paraguay','Uruguay','Bolivia', 'Chile', 'Colombia', 'Ecuador', 'Peru', 'Guiana', 'Suriname']\n",
    "for pais in dados['country']:\n",
    "    if pais in paises_UE:\n",
    "        paises_na_UE.append('Membro')\n",
    "        paises_no_mercosul.append('-')\n",
    "    elif pais in paises_mercosul:\n",
    "        paises_na_UE.append('-')\n",
    "        paises_no_mercosul.append('Membro')\n",
    "    else:\n",
    "        paises_na_UE.append('-')\n",
    "        paises_no_mercosul.append('-')\n",
    "dados_limpos['Mercosul']=paises_no_mercosul\n",
    "dados_limpos['União Europeia']=paises_na_UE"
   ]
  },
  {
   "cell_type": "code",
   "execution_count": 205,
   "metadata": {},
   "outputs": [
    {
     "ename": "NameError",
     "evalue": "name 'dados_emprego' is not defined",
     "output_type": "error",
     "traceback": [
      "\u001b[0;31m---------------------------------------------------------------------------\u001b[0m",
      "\u001b[0;31mNameError\u001b[0m                                 Traceback (most recent call last)",
      "\u001b[0;32m<ipython-input-205-8539fcc401ee>\u001b[0m in \u001b[0;36m<module>\u001b[0;34m\u001b[0m\n\u001b[1;32m      3\u001b[0m \u001b[0mpaises_UE\u001b[0m\u001b[0;34m=\u001b[0m\u001b[0;34m[\u001b[0m\u001b[0;34m\"France\"\u001b[0m\u001b[0;34m,\u001b[0m \u001b[0;34m\"Germany\"\u001b[0m\u001b[0;34m,\u001b[0m \u001b[0;34m\"Belgium\"\u001b[0m\u001b[0;34m,\u001b[0m \u001b[0;34m\"Italy\"\u001b[0m\u001b[0;34m,\u001b[0m \u001b[0;34m\"Luxembourg\"\u001b[0m\u001b[0;34m,\u001b[0m \u001b[0;34m\"Netherlands\"\u001b[0m\u001b[0;34m,\u001b[0m \u001b[0;34m\"Denmark\"\u001b[0m\u001b[0;34m,\u001b[0m \u001b[0;34m\"Ireland\"\u001b[0m\u001b[0;34m,\u001b[0m \u001b[0;34m\"United Kingdom\"\u001b[0m\u001b[0;34m,\u001b[0m \u001b[0;34m\"Greece\"\u001b[0m\u001b[0;34m,\u001b[0m \u001b[0;34m\"Portugal\"\u001b[0m\u001b[0;34m,\u001b[0m \u001b[0;34m\"Spain\"\u001b[0m\u001b[0;34m,\u001b[0m \u001b[0;34m\"Austria\"\u001b[0m\u001b[0;34m,\u001b[0m \u001b[0;34m\"Finland\"\u001b[0m\u001b[0;34m,\u001b[0m \u001b[0;34m\"Sweden\"\u001b[0m\u001b[0;34m,\u001b[0m \u001b[0;34m\"Hungary\"\u001b[0m\u001b[0;34m,\u001b[0m \u001b[0;34m\"Cyprus\"\u001b[0m\u001b[0;34m,\u001b[0m \u001b[0;34m\"Czech Republic\"\u001b[0m\u001b[0;34m,\u001b[0m \u001b[0;34m\"Estonia\"\u001b[0m\u001b[0;34m,\u001b[0m \u001b[0;34m\"Latvia\"\u001b[0m\u001b[0;34m,\u001b[0m \u001b[0;34m\"Lithuania\"\u001b[0m\u001b[0;34m,\u001b[0m \u001b[0;34m\"Malta\"\u001b[0m\u001b[0;34m,\u001b[0m \u001b[0;34m\"Poland\"\u001b[0m\u001b[0;34m,\u001b[0m \u001b[0;34m\"Slovak Republic\"\u001b[0m\u001b[0;34m,\u001b[0m \u001b[0;34m\"Slovenia\"\u001b[0m\u001b[0;34m,\u001b[0m \u001b[0;34m\"Bulgaria\"\u001b[0m\u001b[0;34m,\u001b[0m \u001b[0;34m\"Romania\"\u001b[0m\u001b[0;34m,\u001b[0m \u001b[0;34m\"Croatia\"\u001b[0m\u001b[0;34m]\u001b[0m\u001b[0;34m\u001b[0m\u001b[0;34m\u001b[0m\u001b[0m\n\u001b[1;32m      4\u001b[0m \u001b[0mpaises_mercosul\u001b[0m\u001b[0;34m=\u001b[0m\u001b[0;34m[\u001b[0m\u001b[0;34m'Argentina'\u001b[0m\u001b[0;34m,\u001b[0m \u001b[0;34m'Brazil'\u001b[0m\u001b[0;34m,\u001b[0m \u001b[0;34m'Paraguay'\u001b[0m\u001b[0;34m,\u001b[0m\u001b[0;34m'Uruguay'\u001b[0m\u001b[0;34m,\u001b[0m\u001b[0;34m'Bolivia'\u001b[0m\u001b[0;34m,\u001b[0m \u001b[0;34m'Chile'\u001b[0m\u001b[0;34m,\u001b[0m \u001b[0;34m'Colombia'\u001b[0m\u001b[0;34m,\u001b[0m \u001b[0;34m'Ecuador'\u001b[0m\u001b[0;34m,\u001b[0m \u001b[0;34m'Peru'\u001b[0m\u001b[0;34m,\u001b[0m \u001b[0;34m'Guiana'\u001b[0m\u001b[0;34m,\u001b[0m \u001b[0;34m'Suriname'\u001b[0m\u001b[0;34m]\u001b[0m\u001b[0;34m\u001b[0m\u001b[0;34m\u001b[0m\u001b[0m\n\u001b[0;32m----> 5\u001b[0;31m \u001b[0;32mfor\u001b[0m \u001b[0mpais\u001b[0m \u001b[0;32min\u001b[0m \u001b[0mdados_emprego\u001b[0m\u001b[0;34m[\u001b[0m\u001b[0;34m'country'\u001b[0m\u001b[0;34m]\u001b[0m\u001b[0;34m:\u001b[0m\u001b[0;34m\u001b[0m\u001b[0;34m\u001b[0m\u001b[0m\n\u001b[0m\u001b[1;32m      6\u001b[0m     \u001b[0;32mif\u001b[0m \u001b[0mpais\u001b[0m \u001b[0;32min\u001b[0m \u001b[0mpaises_UE\u001b[0m\u001b[0;34m:\u001b[0m\u001b[0;34m\u001b[0m\u001b[0;34m\u001b[0m\u001b[0m\n\u001b[1;32m      7\u001b[0m         \u001b[0mpaises_na_UE\u001b[0m\u001b[0;34m.\u001b[0m\u001b[0mappend\u001b[0m\u001b[0;34m(\u001b[0m\u001b[0;34m'Membro'\u001b[0m\u001b[0;34m)\u001b[0m\u001b[0;34m\u001b[0m\u001b[0;34m\u001b[0m\u001b[0m\n",
      "\u001b[0;31mNameError\u001b[0m: name 'dados_emprego' is not defined"
     ]
    }
   ],
   "source": [
    "paises_na_UE=[]\n",
    "paises_no_mercosul=[]\n",
    "paises_UE=[\"France\", \"Germany\", \"Belgium\", \"Italy\", \"Luxembourg\", \"Netherlands\", \"Denmark\", \"Ireland\", \"United Kingdom\", \"Greece\", \"Portugal\", \"Spain\", \"Austria\", \"Finland\", \"Sweden\", \"Hungary\", \"Cyprus\", \"Czech Republic\", \"Estonia\", \"Latvia\", \"Lithuania\", \"Malta\", \"Poland\", \"Slovak Republic\", \"Slovenia\", \"Bulgaria\", \"Romania\", \"Croatia\"]\n",
    "paises_mercosul=['Argentina', 'Brazil', 'Paraguay','Uruguay','Bolivia', 'Chile', 'Colombia', 'Ecuador', 'Peru', 'Guiana', 'Suriname']\n",
    "for pais in dados_emprego['country']:\n",
    "    if pais in paises_UE:\n",
    "        paises_na_UE.append('Membro')\n",
    "        paises_no_mercosul.append('-')\n",
    "    elif pais in paises_mercosul:\n",
    "        paises_na_UE.append('-')\n",
    "        paises_no_mercosul.append('Membro')\n",
    "    else:\n",
    "        paises_na_UE.append('-')\n",
    "        paises_no_mercosul.append('-')\n",
    "dados_limpos_emp['Mercosul']=paises_no_mercosul\n",
    "dados_limpos_emp['União Europeia']=paises_na_UE\n"
   ]
  },
  {
   "cell_type": "code",
   "execution_count": 208,
   "metadata": {},
   "outputs": [
    {
     "data": {
      "image/png": "[encoded data removed]",
      "text/plain": [
       "<Figure size 432x288 with 1 Axes>"
      ]
     },
     "metadata": {
      "needs_background": "light"
     },
     "output_type": "display_data"
    }
   ],
   "source": [
    "plt.plot(dados_escolhidos.iloc[2,:-2], label = 'Chile')\n",
    "plt.plot(dados_escolhidos.iloc[1,:-2], label = 'Brazil')\n",
    "plt.plot(dados_escolhidos.iloc[0,:-2], label = 'Belgium')\n",
    "plt.plot(dados_escolhidos.iloc[3,:-2], label = 'Netherlands')\n",
    "plt.title('Crescimento percentual do PIB por ano durante a crise de 2008')\n",
    "plt.legend(loc = 'upper right')\n",
    "plt.axis([2007, 2010, -6,8])\n",
    "plt.grid()"
   ]
  },
  {
   "cell_type": "code",
   "execution_count": 209,
   "metadata": {},
   "outputs": [],
   "source": [
    "data_média = {'Brazil': [-1.21,6.6],'Chile': [-1.85,4.75],'Belgium': [-3.56,1.6],'Netherlands': [-4.16,1.1]}\n",
    "dados_média = pd.DataFrame.from_dict(data_média, orient='index',columns = ['2009','2010'])"
   ]
  },
  {
   "cell_type": "code",
   "execution_count": 210,
   "metadata": {},
   "outputs": [
    {
     "data": {
      "text/plain": [
       "<matplotlib.lines.Line2D at 0x1159e2908>"
      ]
     },
     "execution_count": 210,
     "metadata": {},
     "output_type": "execute_result"
    },
    {
     "data": {
      "image/png": "[encoded data removed]",
      "text/plain": [
       "<Figure size 432x288 with 1 Axes>"
      ]
     },
     "metadata": {
      "needs_background": "light"
     },
     "output_type": "display_data"
    }
   ],
   "source": [
    "dados_média.plot(kind='bar', color=('red', 'green'))\n",
    "plt.ylabel('Crescimento percentual do PIB')\n",
    "plt.title('Crescimento percentual do PIB durante e após a crise')\n",
    "plt.grid()\n",
    "plt.tight_layout()\n",
    "plt.axhline(y=0,color='black')"
   ]
  },
  {
   "cell_type": "code",
   "execution_count": 211,
   "metadata": {},
   "outputs": [],
   "source": [
    "data_recuperação = {'Brazil': [3.905],'Chile': [3.3],'Belgium': [2.58],'Netherlands': [2.63]}\n",
    "dados_recuperacao = pd.DataFrame.from_dict(data_recuperação, orient='index', columns = ['\"Taxa de recuperação\"'])"
   ]
  },
  {
   "cell_type": "code",
   "execution_count": 212,
   "metadata": {},
   "outputs": [
    {
     "data": {
      "image/png": "[encoded data removed]",
      "text/plain": [
       "<Figure size 432x288 with 1 Axes>"
      ]
     },
     "metadata": {
      "needs_background": "light"
     },
     "output_type": "display_data"
    }
   ],
   "source": [
    "dados_recuperacao.plot(kind='bar', color=('blue'))\n",
    "plt.ylabel('Taxa de recuperação da crise')\n",
    "plt.title('Diferença do crescimento do PIB durante e após a crise')\n",
    "plt.tight_layout()\n",
    "plt.grid()"
   ]
  },
  {
   "cell_type": "code",
   "execution_count": null,
   "metadata": {},
   "outputs": [],
   "source": []
  },
  {
   "cell_type": "code",
   "execution_count": null,
   "metadata": {},
   "outputs": [],
   "source": []
  }
 ],
 "metadata": {
  "kernelspec": {
   "display_name": "Python 3",
   "language": "python",
   "name": "python3"
  },
  "language_info": {
   "codemirror_mode": {
    "name": "ipython",
    "version": 3
   },
   "file_extension": ".py",
   "mimetype": "text/x-python",
   "name": "python",
   "nbconvert_exporter": "python",
   "pygments_lexer": "ipython3",
   "version": "3.7.1"
  }
 },
 "nbformat": 4,
 "nbformat_minor": 2
}
